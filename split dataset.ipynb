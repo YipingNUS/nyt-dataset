{
 "cells": [
  {
   "cell_type": "code",
   "execution_count": null,
   "metadata": {},
   "outputs": [],
   "source": [
    "import random\n",
    "from os import makedirs, path\n",
    "random.seed(42)\n",
    "\n",
    "train_path = \"/Users/admin/corpora/TextClassification/nyt/train/\"\n",
    "test_path = \"/Users/admin/corpora/TextClassification/nyt/test/\"\n",
    "test_ratio = 0.2"
   ]
  },
  {
   "cell_type": "code",
   "execution_count": null,
   "metadata": {},
   "outputs": [],
   "source": [
    "with open(\"dataset.txt\", \"r\") as f:\n",
    "    docs = [line.strip() for line in f.readlines()]\n",
    "    \n",
    "with open(\"labels.txt\", \"r\") as f:\n",
    "    labels = [line.strip() for line in f.readlines()]"
   ]
  },
  {
   "cell_type": "code",
   "execution_count": null,
   "metadata": {},
   "outputs": [],
   "source": [
    "doc_id = 0\n",
    "for text, label in zip(docs, labels):\n",
    "    in_test_split = random.random() < test_ratio\n",
    "    if in_test_split:\n",
    "        fpath = path.join(test_path, label)\n",
    "    else:\n",
    "        fpath = path.join(train_path, label)\n",
    "    makedirs(fpath, exist_ok=True)\n",
    "    with open(path.join(fpath, str(doc_id)), \"w+\") as f:\n",
    "        f.write(text)\n",
    "    doc_id += 1"
   ]
  }
 ],
 "metadata": {
  "kernelspec": {
   "display_name": "Python 3",
   "language": "python",
   "name": "python3"
  },
  "language_info": {
   "codemirror_mode": {
    "name": "ipython",
    "version": 3
   },
   "file_extension": ".py",
   "mimetype": "text/x-python",
   "name": "python",
   "nbconvert_exporter": "python",
   "pygments_lexer": "ipython3",
   "version": "3.6.10"
  }
 },
 "nbformat": 4,
 "nbformat_minor": 4
}
